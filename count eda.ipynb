{
 "cells": [
  {
   "cell_type": "markdown",
   "id": "2f260de8",
   "metadata": {},
   "source": [
    "# Count or Frequency Encoding\n",
    "\n",
    "High Cardinality\n",
    "\n",
    "Another way to refer to variables that have a multitude of categories , is to call them variables with high cardinality.\n",
    "\n",
    "If we have categorical variables containing many multiple labels or high cardinality.then by using one hot encoding , we will expand the feature space dramatically.\n",
    "\n",
    "one approcah  that is heavily used in Kaggle competitions , is to replace each label of the categorical variable by the count, this is the amount of times each label appearns in the dataset or the frequecy of the label in the categorical column , this is the percentage of observations within that category. The 2 are equivalent.\n",
    "\n",
    "\n",
    "\n",
    "Lets see how it works"
   ]
  },
  {
   "cell_type": "code",
   "execution_count": null,
   "id": "27f678d6",
   "metadata": {},
   "outputs": [],
   "source": [
    "import pandas as pd\n",
    "import numpy as np\n",
    "\n",
    "# lets open the mercedes benz dataset for demonstration\n",
    "\n",
    "# "
   ]
  }
 ],
 "metadata": {
  "kernelspec": {
   "display_name": "Python 3",
   "language": "python",
   "name": "python3"
  },
  "language_info": {
   "codemirror_mode": {
    "name": "ipython",
    "version": 3
   },
   "file_extension": ".py",
   "mimetype": "text/x-python",
   "name": "python",
   "nbconvert_exporter": "python",
   "pygments_lexer": "ipython3",
   "version": "3.7.7"
  }
 },
 "nbformat": 4,
 "nbformat_minor": 5
}
